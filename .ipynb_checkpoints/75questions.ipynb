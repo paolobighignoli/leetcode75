{
 "cells": [
  {
   "cell_type": "code",
   "execution_count": 28,
   "metadata": {},
   "outputs": [],
   "source": [
    "from typing import List"
   ]
  },
  {
   "cell_type": "markdown",
   "metadata": {},
   "source": [
    "# [2390. Removing stars from a String](https://leetcode.com/problems/removing-stars-from-a-string/description/?envType=study-plan-v2&envId=leetcode-75)\n",
    "\n",
    "Paolo's comment: with some difficulties I have found a bad solution using a list that store all the characters in the original string, but this was not necessary, since I should only append to the list the values that are not \"*\""
   ]
  },
  {
   "cell_type": "code",
   "execution_count": 29,
   "metadata": {},
   "outputs": [],
   "source": [
    "class Solution:\n",
    "    def removeStars(self, s: str) -> str:\n",
    "        stack = []\n",
    "        for c in s:\n",
    "            if c == \"*\":\n",
    "                stack.pop(-1)\n",
    "            else:\n",
    "                stack.append(c)\n",
    "        final_s = \"\"\n",
    "        for c in stack:\n",
    "            final_s = final_s + c    \n",
    "        return final_s"
   ]
  },
  {
   "cell_type": "code",
   "execution_count": 27,
   "metadata": {},
   "outputs": [
    {
     "data": {
      "text/plain": [
       "'rbio'"
      ]
     },
     "execution_count": 27,
     "metadata": {},
     "output_type": "execute_result"
    }
   ],
   "source": [
    "string_1 = \"leet**cod*e\"\n",
    "string_2 = \"erase*****\"\n",
    "string_3 = \"xa**j*z*e*a*q*ry*bioj*mzd**k**g*\"\n",
    "\n",
    "Solution().removeStars(string_1)\n",
    "Solution().removeStars(string_2)\n",
    "Solution().removeStars(string_3)"
   ]
  },
  {
   "cell_type": "markdown",
   "metadata": {},
   "source": [
    "# [735. Asteroid Collision](https://leetcode.com/problems/asteroid-collision/description/?envType=study-plan-v2&envId=leetcode-75)\n",
    "\n",
    "Paolo's comment: \n",
    "* not understood immediately that some combination where possible (see below)"
   ]
  },
  {
   "cell_type": "markdown",
   "metadata": {},
   "source": [
    "# Intuition\n",
    "<!-- Describe your first thoughts on how to solve this problem. -->\n",
    "Key points:\n",
    "* a configuration of the type [-2, -1, 2, 1] is possible since the negatives goes to the left and the positives goes to the righ so they will no collide\n",
    "* you don't need to put instantly the new asteroid in the final stack, you can keep it and iteratively check if can be inserted or not"
   ]
  },
  {
   "cell_type": "code",
   "execution_count": 59,
   "metadata": {},
   "outputs": [],
   "source": [
    "class Solution:\n",
    "    def asteroidCollision(self, asteroids: List[int]) -> List[int]:\n",
    "        final_asteroids = []\n",
    "        for a in asteroids:\n",
    "            while final_asteroids and a < 0 < final_asteroids[-1]:\n",
    "                if -a > final_asteroids[-1]:\n",
    "                    # remove the last asteroid and go again in the while\n",
    "                    # to check the previous one\n",
    "                    final_asteroids.pop()\n",
    "                    continue\n",
    "                elif -a < final_asteroids[-1]:\n",
    "                    # don't consider a, and go to the next asteroid\n",
    "                    break\n",
    "                else:\n",
    "                    # remove the last asteroid and a, go to the next asteroid\n",
    "                    final_asteroids.pop()\n",
    "                    break\n",
    "            else:\n",
    "                final_asteroids.append(a)\n",
    "        return final_asteroids"
   ]
  },
  {
   "cell_type": "code",
   "execution_count": 60,
   "metadata": {},
   "outputs": [
    {
     "data": {
      "text/plain": [
       "[10]"
      ]
     },
     "execution_count": 60,
     "metadata": {},
     "output_type": "execute_result"
    }
   ],
   "source": [
    "list_1 = [5, 10, -5]\n",
    "list_2 = [8, -8]\n",
    "list_3 = [10, 2, -5]\n",
    "\n",
    "Solution().asteroidCollision(list_1)\n",
    "Solution().asteroidCollision(list_2)\n",
    "Solution().asteroidCollision(list_3)"
   ]
  },
  {
   "cell_type": "markdown",
   "metadata": {},
   "source": [
    "# [394. Decode String](https://leetcode.com/problems/decode-string/description/?envType=study-plan-v2&envId=leetcode-75)\n",
    "\n",
    "Paolo's comment:\n",
    "this is fucking hard"
   ]
  },
  {
   "cell_type": "markdown",
   "metadata": {},
   "source": [
    "The idea is that you put in the stack or stuff that is already done ex. 3[abc] would be in the stack as ['abcabcabc', ...], or stuff that need to be closed but in this case its followed by a number, like 2[ab 3[..  would be in the stack as [2, ab, ...] and then when a \"]\" arrives you take the current string "
   ]
  },
  {
   "cell_type": "code",
   "execution_count": 65,
   "metadata": {},
   "outputs": [],
   "source": [
    "class Solution:\n",
    "    def decodeString(self, string_: str) -> str:\n",
    "        stack = []\n",
    "        curr_str = \"\"\n",
    "        curr_num = 0\n",
    "\n",
    "        for s in string_:\n",
    "            if s.isdigit():\n",
    "                # this is for when you find 32a, you first find 3, then 2 so the number should be 3*10+2\n",
    "                curr_num = curr_num*10 + int(s)\n",
    "            elif s == \"[\":\n",
    "                # when a [ is open, put aside the current string and number and start again from 0 and \"\"\n",
    "                stack.append(curr_num)\n",
    "                stack.append(curr_str)\n",
    "                curr_num = 0\n",
    "                curr_str = \"\"\n",
    "            elif s == \"]\":\n",
    "                # here instead ] is closed, then I take the last elements in the stack and create a string \n",
    "                prev_str = stack.pop()\n",
    "                prev_num = stack.pop()\n",
    "                curr_str = prev_str + curr_str*int(prev_num)\n",
    "            else:\n",
    "                # if its a charachter add to the previous character\n",
    "                curr_str = curr_str + s\n",
    "        while stack: # now empty the stack\n",
    "            curr_str = stack.pop() + curr_str\n",
    "        return curr_str\n"
   ]
  },
  {
   "cell_type": "code",
   "execution_count": 64,
   "metadata": {},
   "outputs": [
    {
     "name": "stdout",
     "output_type": "stream",
     "text": [
      "['0', '1', '2', '3', '4', '5', '6', '7', '8', '9']\n"
     ]
    }
   ],
   "source": [
    "Solution().decodeString(\"boh\")"
   ]
  },
  {
   "cell_type": "markdown",
   "metadata": {},
   "source": [
    "# [1768. Merge Strings Alternately](https://leetcode.com/problems/merge-strings-alternately/description/?envType=study-plan-v2&envId=leetcode-75)\n",
    "\n",
    "Paolo's comment:\n",
    "that was easy but keynote:\n",
    "* when you finish a string when you do word1[len(word1):] is the empty string \"\""
   ]
  },
  {
   "cell_type": "code",
   "execution_count": null,
   "metadata": {},
   "outputs": [],
   "source": [
    "class Solution:\n",
    "    def mergeAlternately(self, word1: str, word2: str) -> str:\n",
    "        final_word = \"\"\n",
    "        if len(word1)>len(word2):\n",
    "            # save the longest word\n",
    "            longest_word = word1\n",
    "        else:\n",
    "            longest_word = word2\n",
    "        # calculate the min length\n",
    "        min_length = min(len(word1), len(word2))\n",
    "        for i in range(min_length):\n",
    "            # add the characters alternately\n",
    "            final_word = final_word + word1[i] + word2[i]\n",
    "        # finally add the remaining characters from the longest_word\n",
    "        final_word = final_word + longest_word[min_length:]\n",
    "        return final_word\n"
   ]
  },
  {
   "cell_type": "code",
   "execution_count": 74,
   "metadata": {},
   "outputs": [],
   "source": [
    "# smartest solution\n",
    "class Solution:\n",
    "    def mergeAlternately(self, word1: str, word2: str) -> str:\n",
    "        final_word = \"\"\n",
    "        for i in range(min(len(word1), len(word2))):\n",
    "            final_word = final_word + word1[i] + word2[i]\n",
    "        final_word = final_word + word1[i+1:] + word2[i+1:]\n",
    "        return final_word"
   ]
  },
  {
   "cell_type": "code",
   "execution_count": 75,
   "metadata": {},
   "outputs": [
    {
     "name": "stdout",
     "output_type": "stream",
     "text": [
      "aqaqaqaqaqqqqq\n"
     ]
    }
   ],
   "source": [
    "print(Solution().mergeAlternately(\"aaaaa\", \"qqqqqqqqq\"))"
   ]
  },
  {
   "cell_type": "markdown",
   "metadata": {},
   "source": [
    "# Linked Lists"
   ]
  },
  {
   "cell_type": "code",
   "execution_count": 95,
   "metadata": {},
   "outputs": [
    {
     "ename": "AttributeError",
     "evalue": "'Node' object has no attribute 'head'",
     "output_type": "error",
     "traceback": [
      "\u001b[0;31m---------------------------------------------------------------------------\u001b[0m",
      "\u001b[0;31mAttributeError\u001b[0m                            Traceback (most recent call last)",
      "Cell \u001b[0;32mIn[95], line 45\u001b[0m\n\u001b[1;32m     42\u001b[0m         \u001b[39mreturn\u001b[39;00m string_to_return\n\u001b[1;32m     44\u001b[0m head_node \u001b[39m=\u001b[39m Node()\n\u001b[0;32m---> 45\u001b[0m head_node\u001b[39m.\u001b[39;49minsertAtBegin(\u001b[39m0\u001b[39;49m)\n",
      "Cell \u001b[0;32mIn[95], line 8\u001b[0m, in \u001b[0;36mNode.insertAtBegin\u001b[0;34m(self, val)\u001b[0m\n\u001b[1;32m      6\u001b[0m \u001b[39mdef\u001b[39;00m \u001b[39minsertAtBegin\u001b[39m(\u001b[39mself\u001b[39m, val\u001b[39m=\u001b[39m\u001b[39m0\u001b[39m):\n\u001b[1;32m      7\u001b[0m     new_node \u001b[39m=\u001b[39m Node(val)\n\u001b[0;32m----> 8\u001b[0m     \u001b[39mif\u001b[39;00m \u001b[39mself\u001b[39;49m\u001b[39m.\u001b[39;49mhead \u001b[39mis\u001b[39;00m \u001b[39mNone\u001b[39;00m:\n\u001b[1;32m      9\u001b[0m         \u001b[39mself\u001b[39m\u001b[39m.\u001b[39mhead \u001b[39m=\u001b[39m new_node\n\u001b[1;32m     10\u001b[0m         \u001b[39mreturn\u001b[39;00m\n",
      "\u001b[0;31mAttributeError\u001b[0m: 'Node' object has no attribute 'head'"
     ]
    }
   ],
   "source": [
    "class Node():\n",
    "    def __init__(self, val=0):\n",
    "        self.val = val\n",
    "        self.next = None\n",
    "\n",
    "    def insertAtBegin(self, val=0):\n",
    "        new_node = Node(val)\n",
    "        if self.head is None:\n",
    "            self.head = new_node\n",
    "            return\n",
    "        else:\n",
    "            new_node.next = self.head\n",
    "            self.head = new_node\n",
    "\n",
    "    # Indexing starts from 0.\n",
    "    def insertAtIndex(self, data, index):\n",
    "            new_node = Node(data)\n",
    "            current_node = self.head\n",
    "            position = 0\n",
    "            if position == index:\n",
    "                self.insertAtBegin(data)\n",
    "            else:\n",
    "                while(current_node != None and position+1 != index):\n",
    "                    position = position+1\n",
    "                    current_node = current_node.next\n",
    "\n",
    "                if current_node != None:\n",
    "\n",
    "                    new_node.next = current_node.next\n",
    "                    current_node.next = new_node\n",
    "                else:\n",
    "                    print(\"Index not present\")\n",
    "\n",
    "    def __repr__(self):\n",
    "        current_node = self\n",
    "        string_to_return = \"\"\n",
    "        while current_node.next:\n",
    "            string_to_return += f\"[{current_node.val}] -> \"\n",
    "            current_node = current_node.next\n",
    "        string_to_return += f\"[{current_node.val}] -> X\"\n",
    "\n",
    "        return string_to_return\n",
    "\n",
    "head_node = Node()\n",
    "head_node.insertAtBegin(0)\n",
    "\n",
    "\n",
    "\n",
    "\n"
   ]
  },
  {
   "cell_type": "markdown",
   "metadata": {},
   "source": [
    "# [2095. Delete the Middle Node of a Linked List](https://leetcode.com/problems/delete-the-middle-node-of-a-linked-list/description/?envType=study-plan-v2&envId=leetcode-75)\n",
    "\n",
    "Paolo's comment: that one was quite frustrating because I missed the length of the list in the beginning and didn't catch the bug until 1 hour"
   ]
  },
  {
   "cell_type": "code",
   "execution_count": 2,
   "metadata": {},
   "outputs": [],
   "source": [
    "# Definition for singly-linked list.\n",
    "class ListNode:\n",
    "    def __init__(self, val=0, next=None):\n",
    "        self.val = val\n",
    "        self.next = next\n",
    "\n",
    "class Solution:\n",
    "    def deleteMiddle(self, head: ListNode) -> ListNode:\n",
    "        length_of_list = 1\n",
    "        current_node = head\n",
    "        while current_node.next:\n",
    "            length_of_list += 1\n",
    "            current_node = current_node.next\n",
    "        if length_of_list == 1:\n",
    "            return None\n",
    "        if length_of_list == 2:\n",
    "            head.next = None\n",
    "            return head \n",
    "\n",
    "        index = int(length_of_list/2)\n",
    "        \n",
    "        position = 0\n",
    "        current_node = head\n",
    "        while position < index-1:\n",
    "            current_node = current_node.next\n",
    "            position += 1\n",
    "        node_to_eliminate = current_node.next\n",
    "        current_node.next = node_to_eliminate.next\n",
    "        node_to_eliminate = None\n",
    "        return head\n",
    "\n"
   ]
  },
  {
   "cell_type": "code",
   "execution_count": 34,
   "metadata": {},
   "outputs": [],
   "source": [
    "node1 = ListNode(1)\n",
    "node2 = ListNode(2)\n",
    "node3 = ListNode(3)\n",
    "node4 = ListNode(4)\n",
    "node1.next = node2\n",
    "node2.next = node3\n",
    "node3.next = node4"
   ]
  },
  {
   "cell_type": "code",
   "execution_count": 4,
   "metadata": {},
   "outputs": [
    {
     "data": {
      "text/plain": [
       "'[1] -> [2] -> [3] -> [4] -> X'"
      ]
     },
     "execution_count": 4,
     "metadata": {},
     "output_type": "execute_result"
    }
   ],
   "source": [
    "def print_linked_list(head):\n",
    "    current_node = head\n",
    "    string_to_return = \"\"\n",
    "    while current_node.next:\n",
    "        string_to_return += f\"[{current_node.val}] -> \"\n",
    "        current_node = current_node.next\n",
    "    string_to_return += f\"[{current_node.val}] -> X\"\n",
    "\n",
    "    return string_to_return\n",
    "print_linked_list(node1)"
   ]
  },
  {
   "cell_type": "markdown",
   "metadata": {},
   "source": [
    "# [328. Odd Even Linked List](https://leetcode.com/problems/odd-even-linked-list/description/?envType=study-plan-v2&envId=leetcode-75)"
   ]
  },
  {
   "cell_type": "code",
   "execution_count": 1,
   "metadata": {},
   "outputs": [],
   "source": [
    "# Definition for singly-linked list.\n",
    "class ListNode:\n",
    "    def __init__(self, val=0, next=None):\n",
    "        self.val = val\n",
    "        self.next = next\n",
    "\n",
    "class Solution:\n",
    "    def oddEvenList(self, head: ListNode) -> ListNode:\n",
    "        \n",
    "        if not head:\n",
    "            return None\n",
    "\n",
    "        odd_runner = head\n",
    "        even_runner = even_head = head.next\n",
    "\n",
    "        while even_runner and even_runner.next:\n",
    "\n",
    "            odd_runner.next = odd_runner.next.next\n",
    "            odd_runner = odd_runner.next ########## if you invert this order it raise an error, WHY???? ##########\n",
    "            \n",
    "            even_runner.next = even_runner.next.next\n",
    "            even_runner = even_runner.next\n",
    "\n",
    "        odd_runner.next = even_head\n",
    "\n",
    "        return head"
   ]
  },
  {
   "cell_type": "code",
   "execution_count": 27,
   "metadata": {},
   "outputs": [],
   "source": [
    "class Solution:\n",
    "    def findMiddle(self, head: ListNode) -> int:\n",
    "        slow, fast = head, head\n",
    "\n",
    "        # Get middle of linked list\n",
    "        while fast and fast.next:\n",
    "            fast = fast.next.next\n",
    "            slow = slow.next\n",
    "        \n",
    "        return slow"
   ]
  },
  {
   "cell_type": "code",
   "execution_count": 28,
   "metadata": {},
   "outputs": [
    {
     "data": {
      "text/plain": [
       "'[1] -> [2] -> [3] -> [4] -> X'"
      ]
     },
     "execution_count": 28,
     "metadata": {},
     "output_type": "execute_result"
    }
   ],
   "source": [
    "print_linked_list(node1)"
   ]
  },
  {
   "cell_type": "code",
   "execution_count": 31,
   "metadata": {},
   "outputs": [],
   "source": [
    "class Solution:\n",
    "    def invertLinkedList(self, head: ListNode) -> ListNode:\n",
    "        \n",
    "        prev = None\n",
    "        curr = head\n",
    "\n",
    "        while curr:\n",
    "            curr.next, prev, curr = prev, curr, curr.next\n",
    "        \n",
    "        return head"
   ]
  },
  {
   "cell_type": "code",
   "execution_count": 37,
   "metadata": {},
   "outputs": [
    {
     "data": {
      "text/plain": [
       "'[1] -> X'"
      ]
     },
     "execution_count": 37,
     "metadata": {},
     "output_type": "execute_result"
    }
   ],
   "source": [
    "inverted1 = Solution().invertLinkedList(node1)\n",
    "\n",
    "#print_linked_list(node1)\n",
    "\n",
    "print_linked_list(inverted1)"
   ]
  },
  {
   "cell_type": "markdown",
   "metadata": {},
   "source": [
    "# [215. Kth Largest Element in an Array](https://leetcode.com/problems/kth-largest-element-in-an-array/description/?envType=study-plan-v2&envId=leetcode-75)\n",
    "\n",
    "Paolo's comment: vaffanculo!!! Metà delle soluzioni fanno uso di strutture prebuild di Python!!! Maledetti indiani vi odio tutti"
   ]
  },
  {
   "cell_type": "code",
   "execution_count": null,
   "metadata": {},
   "outputs": [],
   "source": [
    "class Solution:\n",
    "    def findKthLargest(self, nums: List[int], k: int) -> int:\n",
    "        return sorted(nums, reverse=True)[k-1]"
   ]
  },
  {
   "cell_type": "code",
   "execution_count": null,
   "metadata": {},
   "outputs": [],
   "source": [
    "import heapq\n",
    "# heapq (heap queue) is a binary tree data structure in which each node is less or equal than is child nodes.\n",
    "# in this way, the root node, i.e. heap[0] is always the smallest of all the elements in the heap\n",
    "\n",
    "class Solution:\n",
    "    def findKthLargest(self, nums: List[int], k: int) -> int:\n",
    "        \n",
    "        # create a heapq with the first k elements of nums\n",
    "        heap = nums[:k] \n",
    "        heapq.heapify(heap)\n",
    "\n",
    "        # now for all the remaining elements\n",
    "        for num in nums[k:]:\n",
    "            # if its greater than the root of the heap is put inside\n",
    "            if num > heap[0]:\n",
    "                heapq.heappop(heap) # and then everythin is reordered\n",
    "                heapq.heappush(heap, num)\n",
    "        return heap[0]"
   ]
  },
  {
   "cell_type": "markdown",
   "metadata": {},
   "source": [
    "### NEED TO LEARN THE QUICK-SELECT ALGORITHM"
   ]
  },
  {
   "cell_type": "markdown",
   "metadata": {},
   "source": [
    "# HEAP data structure\n",
    "\n",
    "A heap is a data structure that:\n",
    "* keep always the smallest (or biggest) element at the top\n",
    "* each node is greater (or smaller) than its child node\n",
    "* when you insert a new element, the heap structure remain unchanged\n",
    "* you can remove (pop) the top element of the heap and return it\n",
    "* heapify, convert a series of elements into an heap structure"
   ]
  },
  {
   "cell_type": "code",
   "execution_count": 55,
   "metadata": {},
   "outputs": [
    {
     "name": "stdout",
     "output_type": "stream",
     "text": [
      "[2, 3, 5, 17, 13, 7, 8]\n"
     ]
    }
   ],
   "source": [
    "from heapq import heapify, heappop, heappush\n",
    "\n",
    "data = [17, 3, 7, 2, 13, 5, 8]\n",
    "\n",
    "heapify(data) # this operation is in place, i.e. modify data\n",
    "\n",
    "print(data)"
   ]
  },
  {
   "cell_type": "markdown",
   "metadata": {},
   "source": [
    "Notice how the order is changed, infact now is the order of a heap:\n",
    "* the first element is the top node (the smallest)\n",
    "* the next two are its child nodes, \n",
    "* the next four are respectively the child nodes of '3' and of '4'\n",
    "\n",
    "Now add a new element to the heap and see what happens:"
   ]
  },
  {
   "cell_type": "code",
   "execution_count": 56,
   "metadata": {},
   "outputs": [
    {
     "name": "stdout",
     "output_type": "stream",
     "text": [
      "[2, 3, 5, 4, 13, 7, 8, 17]\n"
     ]
    }
   ],
   "source": [
    "heappush(data, 4)\n",
    "\n",
    "print(data)"
   ]
  },
  {
   "cell_type": "markdown",
   "metadata": {},
   "source": [
    "Now the second layers of node is '3' and '5', '4' has been moved one layer below.\n",
    "\n",
    "Now lets see what happen when we pop the top node:"
   ]
  },
  {
   "cell_type": "code",
   "execution_count": 57,
   "metadata": {},
   "outputs": [
    {
     "name": "stdout",
     "output_type": "stream",
     "text": [
      "[3, 4, 5, 17, 13, 7, 8]\n"
     ]
    }
   ],
   "source": [
    "heappop(data)\n",
    "\n",
    "print(data)"
   ]
  },
  {
   "cell_type": "markdown",
   "metadata": {},
   "source": [
    "Now the top node is '4'."
   ]
  },
  {
   "cell_type": "markdown",
   "metadata": {},
   "source": [
    "# [2336. Smallest Number in Infinite Set](https://leetcode.com/problems/smallest-number-in-infinite-set/description/)\n",
    "\n",
    "Paolo's comment:\n",
    "I'm a retard, since this one was not that hard but don't know why I ended up losing 3 days for this exercise.\n",
    "\n",
    "Anyway, can be solved in the following way, without using fancy data structure like heap or you mom puttana."
   ]
  },
  {
   "cell_type": "code",
   "execution_count": null,
   "metadata": {},
   "outputs": [],
   "source": [
    "class SmallestInfiniteSet:\n",
    "\n",
    "    def __init__(self):\n",
    "        self.smallest = 1\n",
    "        self.infinite_set = set()\n",
    "\n",
    "    def popSmallest(self) -> int:\n",
    "        if self.infinite_set:\n",
    "            drop = min(self.infinite_set)\n",
    "            self.infinite_set.remove(drop)\n",
    "            return drop\n",
    "        self.smallest = self.smallest + 1\n",
    "        return self.smallest - 1\n",
    "\n",
    "    def addBack(self, num: int) -> None:\n",
    "        if num < self.smallest:\n",
    "            self.infinite_set.add(num)\n",
    "\n",
    "\n",
    "# Your SmallestInfiniteSet object will be instantiated and called as such:\n",
    "# obj = SmallestInfiniteSet()\n",
    "# param_1 = obj.popSmallest()\n",
    "# obj.addBack(num)"
   ]
  },
  {
   "cell_type": "code",
   "execution_count": 59,
   "metadata": {},
   "outputs": [
    {
     "name": "stdout",
     "output_type": "stream",
     "text": [
      "(0, 1, 2)\n",
      "(0, 1, 3)\n",
      "(0, 2, 3)\n",
      "(1, 2, 3)\n"
     ]
    }
   ],
   "source": [
    "import itertools\n",
    "\n",
    "l = [1, 2, 3, 4]\n",
    "\n",
    "for comb in itertools.combinations(range(len(l)), 3):\n",
    "    print(comb)"
   ]
  },
  {
   "cell_type": "code",
   "execution_count": 61,
   "metadata": {},
   "outputs": [
    {
     "data": {
      "text/plain": [
       "(1, 2, 3)"
      ]
     },
     "execution_count": 61,
     "metadata": {},
     "output_type": "execute_result"
    }
   ],
   "source": [
    "comb"
   ]
  },
  {
   "cell_type": "code",
   "execution_count": 64,
   "metadata": {},
   "outputs": [
    {
     "data": {
      "text/plain": [
       "[[7, 14], [3, 3], [1, 2], [17, 1]]"
      ]
     },
     "execution_count": 64,
     "metadata": {},
     "output_type": "execute_result"
    }
   ],
   "source": [
    "z=[]\n",
    "\n",
    "nums1 = [1, 3, 7, 17]\n",
    "nums2 = [2, 3, 14, 1]\n",
    "\n",
    "for a,b in zip(nums1,nums2):\n",
    "    z.append([a,b])\n",
    "\n",
    "z.sort(key=lambda x:-x[1]) # order in reverse wrt to the second element, 14-3-2-1\n",
    "\n",
    "z"
   ]
  },
  {
   "cell_type": "code",
   "execution_count": 72,
   "metadata": {},
   "outputs": [],
   "source": [
    "l = [1, 3, 4, 5, 6]"
   ]
  },
  {
   "cell_type": "code",
   "execution_count": 73,
   "metadata": {},
   "outputs": [
    {
     "data": {
      "text/plain": [
       "[1, 3]"
      ]
     },
     "execution_count": 73,
     "metadata": {},
     "output_type": "execute_result"
    }
   ],
   "source": [
    "l[:2]"
   ]
  },
  {
   "cell_type": "code",
   "execution_count": 75,
   "metadata": {},
   "outputs": [
    {
     "data": {
      "text/plain": [
       "[5, 6]"
      ]
     },
     "execution_count": 75,
     "metadata": {},
     "output_type": "execute_result"
    }
   ],
   "source": [
    "l[-2:]"
   ]
  },
  {
   "cell_type": "code",
   "execution_count": 76,
   "metadata": {},
   "outputs": [
    {
     "data": {
      "text/plain": [
       "[4]"
      ]
     },
     "execution_count": 76,
     "metadata": {},
     "output_type": "execute_result"
    }
   ],
   "source": [
    "l[2:-2]"
   ]
  },
  {
   "cell_type": "code",
   "execution_count": 71,
   "metadata": {},
   "outputs": [
    {
     "name": "stdout",
     "output_type": "stream",
     "text": [
      "[1, 3, 4, 5]\n"
     ]
    }
   ],
   "source": [
    "l.pop(-1)\n",
    "\n",
    "print(l)"
   ]
  },
  {
   "cell_type": "code",
   "execution_count": 77,
   "metadata": {},
   "outputs": [
    {
     "ename": "IndexError",
     "evalue": "pop from empty list",
     "output_type": "error",
     "traceback": [
      "\u001b[0;31m---------------------------------------------------------------------------\u001b[0m",
      "\u001b[0;31mIndexError\u001b[0m                                Traceback (most recent call last)",
      "Cell \u001b[0;32mIn[77], line 3\u001b[0m\n\u001b[1;32m      1\u001b[0m l \u001b[39m=\u001b[39m []\n\u001b[0;32m----> 3\u001b[0m l\u001b[39m.\u001b[39;49mpop(\u001b[39m0\u001b[39;49m)\n",
      "\u001b[0;31mIndexError\u001b[0m: pop from empty list"
     ]
    }
   ],
   "source": [
    "l = []\n",
    "\n",
    "l.pop(0)"
   ]
  },
  {
   "cell_type": "code",
   "execution_count": 100,
   "metadata": {},
   "outputs": [],
   "source": [
    "import heapq\n",
    "from typing import List\n",
    "\n",
    "class Solution:\n",
    "    def totalCost(self, costs: List[int], k: int, candidates: int) -> int:\n",
    "        left_heap = costs[:candidates] \n",
    "\n",
    "        right_heap = costs[max(candidates, len(costs)-candidates):]\n",
    "        workers_remaining = costs[candidates:max(candidates, len(costs)-candidates)]\n",
    "        \n",
    "        heapify(left_heap) \n",
    "        heapify(right_heap) \n",
    "\n",
    "        total_cost = 0 \n",
    "\n",
    "        for _ in range(k):     \n",
    "            print(f\"original heap: {costs}\")\n",
    "            print(f\"left_heap: {left_heap}\")\n",
    "            print(f\"right_heap: {right_heap}\")\n",
    "            print(f\"workers_remaining: {workers_remaining}\")\n",
    "            if not right_heap or left_heap and left_heap[0] < right_heap[0]: \n",
    "                cost = heappop(left_heap)\n",
    "                if workers_remaining:\n",
    "                    heappush(left_heap, workers_remaining.pop(0))\n",
    "                \n",
    "            else:\n",
    "                cost = heappop(right_heap)\n",
    "                if workers_remaining:\n",
    "                    heappush(right_heap, workers_remaining.pop(-1))\n",
    "                \n",
    "            total_cost = total_cost + cost\n",
    "            print(f\"cost: {cost}\")\n",
    "    \n",
    "        return total_cost\n"
   ]
  },
  {
   "cell_type": "code",
   "execution_count": 101,
   "metadata": {},
   "outputs": [
    {
     "name": "stdout",
     "output_type": "stream",
     "text": [
      "original heap: [17, 12, 10, 2, 7, 2, 11, 20, 8]\n",
      "left_heap: [2, 12, 10, 17]\n",
      "right_heap: [2, 8, 20, 11]\n",
      "workers_remaining: [7]\n",
      "cost: 2\n",
      "original heap: [17, 12, 10, 2, 7, 2, 11, 20, 8]\n",
      "left_heap: [2, 12, 10, 17]\n",
      "right_heap: [7, 8, 20, 11]\n",
      "workers_remaining: []\n",
      "cost: 2\n",
      "original heap: [17, 12, 10, 2, 7, 2, 11, 20, 8]\n",
      "left_heap: [10, 12, 17]\n",
      "right_heap: [7, 8, 20, 11]\n",
      "workers_remaining: []\n",
      "cost: 7\n"
     ]
    },
    {
     "data": {
      "text/plain": [
       "11"
      ]
     },
     "execution_count": 101,
     "metadata": {},
     "output_type": "execute_result"
    }
   ],
   "source": [
    "costs = [10,1,11,10]\n",
    "\n",
    "k = 2\n",
    "\n",
    "candidates = 1\n",
    "\n",
    "Solution().totalCost(costs=costs, k=k, candidates=candidates)"
   ]
  },
  {
   "cell_type": "code",
   "execution_count": null,
   "metadata": {},
   "outputs": [],
   "source": []
  }
 ],
 "metadata": {
  "kernelspec": {
   "display_name": "Python 3.11.1 64-bit ('3.11.1')",
   "language": "python",
   "name": "python3"
  },
  "language_info": {
   "codemirror_mode": {
    "name": "ipython",
    "version": 3
   },
   "file_extension": ".py",
   "mimetype": "text/x-python",
   "name": "python",
   "nbconvert_exporter": "python",
   "pygments_lexer": "ipython3",
   "version": "3.11.1"
  },
  "orig_nbformat": 4,
  "vscode": {
   "interpreter": {
    "hash": "36aa87528da973003848376161a4d73716901319591f0c4bb70f237c64eec3af"
   }
  }
 },
 "nbformat": 4,
 "nbformat_minor": 2
}
